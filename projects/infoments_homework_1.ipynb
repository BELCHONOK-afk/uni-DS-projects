{
 "cells": [
  {
   "cell_type": "code",
   "execution_count": 1,
   "id": "7ccd9a83",
   "metadata": {},
   "outputs": [],
   "source": [
    "import cv2\n",
    "import numpy as np\n",
    "import random"
   ]
  },
  {
   "cell_type": "code",
   "execution_count": 2,
   "id": "45690c21",
   "metadata": {},
   "outputs": [],
   "source": [
    "#Init of image\n",
    "image = cv2.imread(r'/Users/karantovanatolij/Documents/sry.jpg',0)\n"
   ]
  },
  {
   "cell_type": "code",
   "execution_count": 3,
   "id": "ed7ad0bc",
   "metadata": {},
   "outputs": [],
   "source": [
    "#def apply_gauss_noise(img, sigma=30, mean=0):\n",
    "#    return img + np.random.normal(mean, sigma, img.shape)"
   ]
  },
  {
   "cell_type": "raw",
   "id": "5ea57176",
   "metadata": {},
   "source": [
    " Реализация гауссовского шума"
   ]
  },
  {
   "cell_type": "code",
   "execution_count": 4,
   "id": "7b9a5b7d",
   "metadata": {},
   "outputs": [],
   "source": [
    "def gauss_noise(image, prob = 0.01):\n",
    "    pixels = np.array(image)\n",
    "    rows, col = len(pixels[0]), len(pixels)\n",
    "    for i in range(int(prob*rows*col)):\n",
    "        abs = np.random.randint(0, col-1)\n",
    "        ord = np.random.randint(0, rows-1)\n",
    "        pixels[abs][ord] = 255\n",
    "    return pixels"
   ]
  },
  {
   "cell_type": "raw",
   "id": "eb3aff32",
   "metadata": {},
   "source": [
    "Реализация шума \"соль-перец\""
   ]
  },
  {
   "cell_type": "code",
   "execution_count": 5,
   "id": "2328067a",
   "metadata": {},
   "outputs": [],
   "source": [
    "def sp_noise(image,prob):\n",
    "\n",
    "    '''\n",
    "         The program adds salt-pepper noise\n",
    "         \n",
    "         image: \n",
    "         float prob: probability of noise\n",
    "    '''\n",
    "\n",
    "    output = np.zeros(image.shape,np.uint8)\n",
    "    thres = 1 - prob\n",
    "\n",
    "    for i in range(image.shape[0]):\n",
    "        for j in range(image.shape[1]):\n",
    "            rdn = random.random()\n",
    "            if rdn < prob:\n",
    "                output[i][j] = 0\n",
    "            elif rdn > thres:\n",
    "                output[i][j] = 255\n",
    "            else:\n",
    "                output[i][j] = image[i][j]\n",
    "\n",
    "    return output"
   ]
  },
  {
   "cell_type": "code",
   "execution_count": 6,
   "id": "2a62c192",
   "metadata": {},
   "outputs": [
    {
     "ename": "AttributeError",
     "evalue": "'NoneType' object has no attribute 'shape'",
     "output_type": "error",
     "traceback": [
      "\u001b[0;31m---------------------------------------------------------------------------\u001b[0m",
      "\u001b[0;31mAttributeError\u001b[0m                            Traceback (most recent call last)",
      "Cell \u001b[0;32mIn[6], line 1\u001b[0m\n\u001b[0;32m----> 1\u001b[0m sp_image \u001b[38;5;241m=\u001b[39m \u001b[43msp_noise\u001b[49m\u001b[43m(\u001b[49m\u001b[43mimage\u001b[49m\u001b[43m,\u001b[49m\u001b[43m \u001b[49m\u001b[38;5;241;43m0.3\u001b[39;49m\u001b[43m)\u001b[49m\n\u001b[1;32m      2\u001b[0m gauss_image \u001b[38;5;241m=\u001b[39m gauss_noise(image, \u001b[38;5;241m0.07\u001b[39m)\n",
      "Cell \u001b[0;32mIn[5], line 10\u001b[0m, in \u001b[0;36msp_noise\u001b[0;34m(image, prob)\u001b[0m\n\u001b[1;32m      1\u001b[0m \u001b[38;5;28;01mdef\u001b[39;00m \u001b[38;5;21msp_noise\u001b[39m(image,prob):\n\u001b[1;32m      3\u001b[0m     \u001b[38;5;124;03m'''\u001b[39;00m\n\u001b[1;32m      4\u001b[0m \u001b[38;5;124;03m         The program adds salt-pepper noise\u001b[39;00m\n\u001b[1;32m      5\u001b[0m \u001b[38;5;124;03m         \u001b[39;00m\n\u001b[1;32m      6\u001b[0m \u001b[38;5;124;03m         image: \u001b[39;00m\n\u001b[1;32m      7\u001b[0m \u001b[38;5;124;03m         float prob: probability of noise\u001b[39;00m\n\u001b[1;32m      8\u001b[0m \u001b[38;5;124;03m    '''\u001b[39;00m\n\u001b[0;32m---> 10\u001b[0m     output \u001b[38;5;241m=\u001b[39m np\u001b[38;5;241m.\u001b[39mzeros(\u001b[43mimage\u001b[49m\u001b[38;5;241;43m.\u001b[39;49m\u001b[43mshape\u001b[49m,np\u001b[38;5;241m.\u001b[39muint8)\n\u001b[1;32m     11\u001b[0m     thres \u001b[38;5;241m=\u001b[39m \u001b[38;5;241m1\u001b[39m \u001b[38;5;241m-\u001b[39m prob\n\u001b[1;32m     13\u001b[0m     \u001b[38;5;28;01mfor\u001b[39;00m i \u001b[38;5;129;01min\u001b[39;00m \u001b[38;5;28mrange\u001b[39m(image\u001b[38;5;241m.\u001b[39mshape[\u001b[38;5;241m0\u001b[39m]):\n",
      "\u001b[0;31mAttributeError\u001b[0m: 'NoneType' object has no attribute 'shape'"
     ]
    }
   ],
   "source": [
    "sp_image = sp_noise(image, 0.3)\n",
    "gauss_image = gauss_noise(image, 0.07)"
   ]
  },
  {
   "cell_type": "raw",
   "id": "e0a31625",
   "metadata": {},
   "source": [
    "Свертка"
   ]
  },
  {
   "cell_type": "code",
   "execution_count": null,
   "id": "84e4d7a0",
   "metadata": {},
   "outputs": [],
   "source": [
    "def convolve(image, filter, padding = (1,1)):\n",
    "    size_x, size_y = filter.shape\n",
    "    width,height = image.shape\n",
    "    output_array = np.zeros(((width - size_x + 2*padding[0])\n",
    "+ 1,\n",
    "(height - size_y + 2*padding[1]) + 1))\n",
    "    padded_image = np.pad(image, [\n",
    "        (padding[0],padding[0]),\n",
    "        (padding[1], padding[1]),\n",
    "    ])\n",
    "    \n",
    "    for x in range(padded_image.shape[0] - size_x+1):\n",
    "        for y in range (padded_image.shape[1] - size_y + 1):\n",
    "            window = padded_image[x:x+size_x, y:y+size_y]\n",
    "            output_values = np.sum(filter*window)\n",
    "            output_array[x,y] = output_values\n",
    "    return output_array"
   ]
  },
  {
   "cell_type": "raw",
   "id": "f4ee7f28",
   "metadata": {},
   "source": [
    "Блюр\n",
    "Данный фильтр использует "
   ]
  },
  {
   "cell_type": "code",
   "execution_count": null,
   "id": "116ecd5c",
   "metadata": {},
   "outputs": [],
   "source": [
    "def blur_filter(image, size):\n",
    "    filter = np.array(np.ones((size,size)), dtype = np.float32)/np.float32(size*size) #\n",
    "    img_array = np.array(image)/255.0\n",
    "    pad = int(size/2)\n",
    "    conv_arr = convolve(img_array, filter, padding = (pad,pad))\n",
    "    output = np.uint8(255*conv_arr)\n",
    "    return conv_arr"
   ]
  },
  {
   "cell_type": "code",
   "execution_count": null,
   "id": "f3600115",
   "metadata": {},
   "outputs": [],
   "source": [
    "def sharpening_filter (image, size):\n",
    "    mask = np.ones((size, size), dtype=np.float32)*(-1.0)\n",
    "    center_index = np.uint8(size / 2)\n",
    "    mask[center_index, center_index] = size * size\n",
    "    filter = np.array(mask)\n",
    "\n",
    "    pad = int(size/2)\n",
    "    convolved_arr = convolve(image, filter, padding=(pad, pad))\n",
    "    convolder = np.uint8(255 * convolved_arr)\n",
    "\n",
    "    return convolder \n",
    "\n",
    "    "
   ]
  },
  {
   "cell_type": "code",
   "execution_count": null,
   "id": "3e4d395f",
   "metadata": {},
   "outputs": [],
   "source": [
    "grid_size_of_median_filter = 3\n",
    "def median_filter(image, grid_size, padding = (1,1)):\n",
    "    \n",
    "    width, height = image.shape\n",
    "    \n",
    "    output_array = np.zeros(((width - grid_size + 2*padding[0])+1,\n",
    "                             (height - grid_size + 2* padding[1]) +1 ))\n",
    "    \n",
    "    padded_image = np.pad(image, [\n",
    "        (padding[0], padding[0]), \n",
    "        (padding[1], padding[1]),\n",
    "    ])\n",
    "    for x in range(padded_image.shape[0] - grid_size + 1):\n",
    "        for y in range(padded_image.shape[1] - grid_size + 1):\n",
    "            window = padded_image[x:x + grid_size, y:y + grid_size]\n",
    "\n",
    "            output_values = np.median(window)\n",
    "            output_array[x, y] = output_values\n",
    "    return np.uint8(output_array)\n",
    "pad = int(grid_size_of_median_filter / 2)\n",
    "medianed = median_filter(sp_noise(image, 0.3), grid_size_of_median_filter, padding = (pad, pad))\n"
   ]
  },
  {
   "cell_type": "code",
   "execution_count": null,
   "id": "cde72e45",
   "metadata": {},
   "outputs": [],
   "source": [
    "cv2.imshow('blured.img', blur_filter(sp_image, 3))\n",
    "cv2.imshow('blured.img', blur_filter(gauss_image, 3))"
   ]
  },
  {
   "cell_type": "code",
   "execution_count": null,
   "id": "073932fb",
   "metadata": {},
   "outputs": [],
   "source": [
    "cv2.imshow('sharped.img', sharpening_filter(sp_image, 3))\n",
    "cv2.imshow('sharped.img', sharpening_filter(gauss_image, 3))"
   ]
  },
  {
   "cell_type": "code",
   "execution_count": null,
   "id": "4dd640c6",
   "metadata": {},
   "outputs": [],
   "source": [
    "cv2.imshow('medianed.img', median_filter(sp_image, 3,padding = (pad, pad)))\n",
    "cv2.imshow('medianed.img', median_filter(gauss_image, 3,padding = (pad, pad)))"
   ]
  },
  {
   "cell_type": "code",
   "execution_count": null,
   "id": "1a10c9b5",
   "metadata": {},
   "outputs": [],
   "source": []
  },
  {
   "cell_type": "code",
   "execution_count": null,
   "id": "0bc38b42",
   "metadata": {},
   "outputs": [],
   "source": []
  },
  {
   "cell_type": "code",
   "execution_count": null,
   "id": "f8434c49",
   "metadata": {},
   "outputs": [],
   "source": []
  },
  {
   "cell_type": "code",
   "execution_count": null,
   "id": "c33ec68d",
   "metadata": {},
   "outputs": [],
   "source": []
  }
 ],
 "metadata": {
  "kernelspec": {
   "display_name": "Python 3 (ipykernel)",
   "language": "python",
   "name": "python3"
  },
  "language_info": {
   "codemirror_mode": {
    "name": "ipython",
    "version": 3
   },
   "file_extension": ".py",
   "mimetype": "text/x-python",
   "name": "python",
   "nbconvert_exporter": "python",
   "pygments_lexer": "ipython3",
   "version": "3.9.16"
  }
 },
 "nbformat": 4,
 "nbformat_minor": 5
}
